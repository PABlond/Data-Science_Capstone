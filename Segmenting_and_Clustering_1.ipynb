{
 "cells": [
  {
   "cell_type": "markdown",
   "metadata": {},
   "source": [
    "# Scrap data from Wikipedia"
   ]
  },
  {
   "cell_type": "code",
   "execution_count": 122,
   "metadata": {},
   "outputs": [],
   "source": [
    "import pandas as pd\n",
    "import numpy as np\n",
    "from bs4 import BeautifulSoup\n",
    "import requests"
   ]
  },
  {
   "cell_type": "markdown",
   "metadata": {},
   "source": [
    "### Fix needed variables"
   ]
  },
  {
   "cell_type": "code",
   "execution_count": 119,
   "metadata": {},
   "outputs": [],
   "source": [
    "wikipedia_link='https://en.wikipedia.org/wiki/List_of_postal_codes_of_Canada:_M'\n",
    "wikipedia_page= requests.get(wikipedia_link).text\n",
    "soup = BeautifulSoup(wikipedia_page,'xml')\n",
    "table = soup.find('table')\n",
    "data = []\n",
    "columns = []"
   ]
  },
  {
   "cell_type": "markdown",
   "metadata": {},
   "source": [
    "### Extract data from html page"
   ]
  },
  {
   "cell_type": "code",
   "execution_count": 123,
   "metadata": {},
   "outputs": [
    {
     "data": {
      "text/plain": [
       "[['M7A', \"Queen's Park\", \"Queen's Park\"],\n",
       " ['M3A', 'North York', 'Parkwoods'],\n",
       " ['M4A', 'North York', 'Victoria Village'],\n",
       " ['M5A', 'Downtown Toronto', 'Harbourfront, Regent Park'],\n",
       " ['M6A', 'North York', 'Lawrence Heights, Lawrence Manor'],\n",
       " ['M7A', \"Queen's Park\", \"Queen's Park\"],\n",
       " ['M9A', 'Etobicoke', 'Islington Avenue'],\n",
       " ['M1B', 'Scarborough', 'Rouge, Malvern'],\n",
       " ['M3B', 'North York', 'Don Mills North'],\n",
       " ['M4B', 'East York', 'Woodbine Gardens, Parkview Hill'],\n",
       " ['M5B', 'Downtown Toronto', 'Ryerson, Garden District'],\n",
       " ['M6B', 'North York', 'Glencairn'],\n",
       " ['M9B',\n",
       "  'Etobicoke',\n",
       "  'Cloverdale, Islington, Martin Grove, Princess Gardens, West Deane Park'],\n",
       " ['M1C', 'Scarborough', 'Highland Creek, Rouge Hill, Port Union'],\n",
       " ['M3C', 'North York', 'Flemingdon Park, Don Mills South']]"
      ]
     },
     "execution_count": 123,
     "metadata": {},
     "output_type": "execute_result"
    }
   ],
   "source": [
    "for j, tr_cell in enumerate(table.find_all('tr')):\n",
    "    text = tr_cell.get_text()\n",
    "    text_arr = text.split('\\n')[1:-1]\n",
    "    if j == 0:\n",
    "        columns = text_arr\n",
    "    else:\n",
    "        if text_arr[1] != 'Not assigned':\n",
    "            for i, row in enumerate(data):\n",
    "                neighbourhood = row[2].split(', ')\n",
    "                if text_arr[2] == 'Not assigned':\n",
    "                    text_arr[2] = text_arr[1]\n",
    "                elif row[0] == text_arr[0]:\n",
    "                    if text_arr[2] not in neighbourhood:\n",
    "                        text_arr[2] = row[2] + \", \" + text_arr[2]\n",
    "                    else:\n",
    "                        text_arr[2] = row[2]\n",
    "                    del data[i]\n",
    "            data.append(text_arr)\n",
    "data[:15]\n",
    "   "
   ]
  },
  {
   "cell_type": "markdown",
   "metadata": {},
   "source": [
    "### Create a dataframe from extracted data"
   ]
  },
  {
   "cell_type": "code",
   "execution_count": 124,
   "metadata": {},
   "outputs": [
    {
     "data": {
      "text/html": [
       "<div>\n",
       "<style scoped>\n",
       "    .dataframe tbody tr th:only-of-type {\n",
       "        vertical-align: middle;\n",
       "    }\n",
       "\n",
       "    .dataframe tbody tr th {\n",
       "        vertical-align: top;\n",
       "    }\n",
       "\n",
       "    .dataframe thead th {\n",
       "        text-align: right;\n",
       "    }\n",
       "</style>\n",
       "<table border=\"1\" class=\"dataframe\">\n",
       "  <thead>\n",
       "    <tr style=\"text-align: right;\">\n",
       "      <th></th>\n",
       "      <th>Postcode</th>\n",
       "      <th>Borough</th>\n",
       "      <th>Neighbourhood</th>\n",
       "    </tr>\n",
       "  </thead>\n",
       "  <tbody>\n",
       "    <tr>\n",
       "      <th>0</th>\n",
       "      <td>M7A</td>\n",
       "      <td>Queen's Park</td>\n",
       "      <td>Queen's Park</td>\n",
       "    </tr>\n",
       "    <tr>\n",
       "      <th>1</th>\n",
       "      <td>M3A</td>\n",
       "      <td>North York</td>\n",
       "      <td>Parkwoods</td>\n",
       "    </tr>\n",
       "    <tr>\n",
       "      <th>2</th>\n",
       "      <td>M4A</td>\n",
       "      <td>North York</td>\n",
       "      <td>Victoria Village</td>\n",
       "    </tr>\n",
       "    <tr>\n",
       "      <th>3</th>\n",
       "      <td>M5A</td>\n",
       "      <td>Downtown Toronto</td>\n",
       "      <td>Harbourfront, Regent Park</td>\n",
       "    </tr>\n",
       "    <tr>\n",
       "      <th>4</th>\n",
       "      <td>M6A</td>\n",
       "      <td>North York</td>\n",
       "      <td>Lawrence Heights, Lawrence Manor</td>\n",
       "    </tr>\n",
       "    <tr>\n",
       "      <th>5</th>\n",
       "      <td>M7A</td>\n",
       "      <td>Queen's Park</td>\n",
       "      <td>Queen's Park</td>\n",
       "    </tr>\n",
       "    <tr>\n",
       "      <th>6</th>\n",
       "      <td>M9A</td>\n",
       "      <td>Etobicoke</td>\n",
       "      <td>Islington Avenue</td>\n",
       "    </tr>\n",
       "    <tr>\n",
       "      <th>7</th>\n",
       "      <td>M1B</td>\n",
       "      <td>Scarborough</td>\n",
       "      <td>Rouge, Malvern</td>\n",
       "    </tr>\n",
       "    <tr>\n",
       "      <th>8</th>\n",
       "      <td>M3B</td>\n",
       "      <td>North York</td>\n",
       "      <td>Don Mills North</td>\n",
       "    </tr>\n",
       "    <tr>\n",
       "      <th>9</th>\n",
       "      <td>M4B</td>\n",
       "      <td>East York</td>\n",
       "      <td>Woodbine Gardens, Parkview Hill</td>\n",
       "    </tr>\n",
       "    <tr>\n",
       "      <th>10</th>\n",
       "      <td>M5B</td>\n",
       "      <td>Downtown Toronto</td>\n",
       "      <td>Ryerson, Garden District</td>\n",
       "    </tr>\n",
       "    <tr>\n",
       "      <th>11</th>\n",
       "      <td>M6B</td>\n",
       "      <td>North York</td>\n",
       "      <td>Glencairn</td>\n",
       "    </tr>\n",
       "    <tr>\n",
       "      <th>12</th>\n",
       "      <td>M9B</td>\n",
       "      <td>Etobicoke</td>\n",
       "      <td>Cloverdale, Islington, Martin Grove, Princess ...</td>\n",
       "    </tr>\n",
       "    <tr>\n",
       "      <th>13</th>\n",
       "      <td>M1C</td>\n",
       "      <td>Scarborough</td>\n",
       "      <td>Highland Creek, Rouge Hill, Port Union</td>\n",
       "    </tr>\n",
       "    <tr>\n",
       "      <th>14</th>\n",
       "      <td>M3C</td>\n",
       "      <td>North York</td>\n",
       "      <td>Flemingdon Park, Don Mills South</td>\n",
       "    </tr>\n",
       "  </tbody>\n",
       "</table>\n",
       "</div>"
      ],
      "text/plain": [
       "   Postcode           Borough  \\\n",
       "0       M7A      Queen's Park   \n",
       "1       M3A        North York   \n",
       "2       M4A        North York   \n",
       "3       M5A  Downtown Toronto   \n",
       "4       M6A        North York   \n",
       "5       M7A      Queen's Park   \n",
       "6       M9A         Etobicoke   \n",
       "7       M1B       Scarborough   \n",
       "8       M3B        North York   \n",
       "9       M4B         East York   \n",
       "10      M5B  Downtown Toronto   \n",
       "11      M6B        North York   \n",
       "12      M9B         Etobicoke   \n",
       "13      M1C       Scarborough   \n",
       "14      M3C        North York   \n",
       "\n",
       "                                        Neighbourhood  \n",
       "0                                        Queen's Park  \n",
       "1                                           Parkwoods  \n",
       "2                                    Victoria Village  \n",
       "3                           Harbourfront, Regent Park  \n",
       "4                    Lawrence Heights, Lawrence Manor  \n",
       "5                                        Queen's Park  \n",
       "6                                    Islington Avenue  \n",
       "7                                      Rouge, Malvern  \n",
       "8                                     Don Mills North  \n",
       "9                     Woodbine Gardens, Parkview Hill  \n",
       "10                           Ryerson, Garden District  \n",
       "11                                          Glencairn  \n",
       "12  Cloverdale, Islington, Martin Grove, Princess ...  \n",
       "13             Highland Creek, Rouge Hill, Port Union  \n",
       "14                   Flemingdon Park, Don Mills South  "
      ]
     },
     "execution_count": 124,
     "metadata": {},
     "output_type": "execute_result"
    }
   ],
   "source": [
    "df = pd.DataFrame(data, columns=columns)\n",
    "df.head(15)"
   ]
  },
  {
   "cell_type": "markdown",
   "metadata": {},
   "source": [
    "### Shape of the dataframe"
   ]
  },
  {
   "cell_type": "code",
   "execution_count": 125,
   "metadata": {},
   "outputs": [
    {
     "data": {
      "text/plain": [
       "(104, 3)"
      ]
     },
     "execution_count": 125,
     "metadata": {},
     "output_type": "execute_result"
    }
   ],
   "source": [
    "df.shape"
   ]
  },
  {
   "cell_type": "markdown",
   "metadata": {},
   "source": [
    "### Save the dataframe"
   ]
  },
  {
   "cell_type": "code",
   "execution_count": 126,
   "metadata": {},
   "outputs": [],
   "source": [
    "df.to_csv('first_step.csv', index=False)"
   ]
  }
 ],
 "metadata": {
  "kernelspec": {
   "display_name": "Python 3",
   "language": "python",
   "name": "python3"
  },
  "language_info": {
   "codemirror_mode": {
    "name": "ipython",
    "version": 3
   },
   "file_extension": ".py",
   "mimetype": "text/x-python",
   "name": "python",
   "nbconvert_exporter": "python",
   "pygments_lexer": "ipython3",
   "version": "3.6.7"
  }
 },
 "nbformat": 4,
 "nbformat_minor": 2
}
